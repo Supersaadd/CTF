{
 "cells": [
  {
   "cell_type": "code",
   "execution_count": 11,
   "metadata": {},
   "outputs": [],
   "source": [
    "import random\n"
   ]
  },
  {
   "cell_type": "code",
   "execution_count": 12,
   "metadata": {},
   "outputs": [
    {
     "name": "stdout",
     "output_type": "stream",
     "text": [
      "a = 154316175894155136161666605153309855777798020308865737025872432321288561735713663026173317639521319499032866991625873476041077602029431778755544671924378139716313846657919445840356665266074201550358244138431675474951121511221593210599138033117655095620121167417801877092014447619271276960806249255855418327335\n",
      "b = 154316175894155136171411919164709854858151402696740925336748659178883569262581569483386266330287745601498482057507883735266382518260840446939003841789581233762891833954232099259887942966030674580229033793921729123303921104700811589472823631043049970565867531033270842704842186422375554507888077845847332438311\n",
      "q = 4633899286161905366832948903929971591922961618476654608539366443508039107340440254789004801454667317488662698442623\n"
     ]
    }
   ],
   "source": [
    "# IL MARCHE !\n",
    "\n",
    "a = int(\"a5a0a3a9d28cb8f33646d045fcb267a46c9148bc91d2f4ff1d2817f4d1a2c1018954494ae099acce57bf0df71615eb4ff3200f8fd43d23535ee2cb60d3cc620aaca4d54db390c9d79528e97c775af0e0223223a8f9b24c7d55f0bc04b79773ff529363ef4d4592b3611dd50abd7fa66802f649c47220f4312e944fe239223dc9\", 16)\n",
    "b = int(a + 2**960) \n",
    "q = int(\"1e1b67b4d0dcb3ee8ec87f2eef3a5eee4442064ba1dd7ae21d150e8c7de3e772be5102f2e1dae7d9e5f5e21b42a6bf7f\", 16)\n",
    "\n",
    "print(\"a =\", a)\n",
    "print(\"b =\", b)\n",
    "print(\"q =\", q)\n"
   ]
  },
  {
   "cell_type": "code",
   "execution_count": 13,
   "metadata": {},
   "outputs": [],
   "source": [
    "def multiplyList(myList):\n",
    " \n",
    "    # Multiply elements one by one\n",
    "    result = 1\n",
    "    for x in myList:\n",
    "        result = result * x\n",
    "    return result\n",
    "\n",
    "def miller_rabin(n, k):\n",
    "   \"\"\" en entree : n l'entier a tester\n",
    "                           k le compteur\n",
    "       en sortie: un booleen (True si premier)\"\"\"\n",
    "   if n == 2 or n ==3 :\n",
    "       return True\n",
    "   if n % 2 == 0:\n",
    "       return False\n",
    "   r, s = 0, n - 1\n",
    "   while s % 2 == 0:\n",
    "       r += 1\n",
    "       s //= 2                     # la partie non paire de n-1 / permet la factorisation en nombre premier\n",
    "   for _ in range(k):\n",
    "       a = random.randrange(2, n - 1)     \n",
    "       x = pow(a, s, n)            \n",
    "       if x == 1 or x == n - 1:\n",
    "           continue                \n",
    "       for _ in range(r - 1):      \n",
    "           x = pow(x, 2, n)        \n",
    "           if x == n - 1:\n",
    "               break               \n",
    "       else:\n",
    "           return False            \n",
    "   return True  \n",
    "\n",
    "def bit_size(int):\n",
    "    return ((int.bit_length() + 7) // 8)"
   ]
  },
  {
   "cell_type": "code",
   "execution_count": 14,
   "metadata": {},
   "outputs": [
    {
     "name": "stdout",
     "output_type": "stream",
     "text": [
      "19432435916101830914969160136324061554143341035289559492176324694446427616397396044028903268114313242736052016080440440786802705956290788449927575399103255609093327333261715101956394707989224111080617834723204719496008160685211882121353761310483761684031240050047278095273672845778\n"
     ]
    }
   ],
   "source": [
    "liste_pk = [2]\n",
    "\n",
    "Q_prime = int(2) # TME 3\n",
    "#Q_prime = int(2*q) # TME 2\n",
    "\n",
    "c = int(20000) #constante arbitraire\n",
    "len_b = bit_size(b)\n",
    "maxQprim = int((b-a)//(c*pow(len_b,2)))\n",
    "\n",
    "sizeQprim = bit_size(maxQprim)\n",
    "\n",
    "while(sizeQprim != bit_size(Q_prime)):\n",
    "    \n",
    "    max = 8*20 # Valeur arbitraire\n",
    "    pi = random.randrange(2,min(pow(2, max), pow(2,8*(sizeQprim-bit_size(Q_prime)))))\n",
    "\n",
    "    if(miller_rabin(pi,10) == False):\n",
    "        continue\n",
    "\n",
    "    Q_prime *= pi\n",
    "    liste_pk.append(pi)\n",
    "\n",
    "print(Q_prime) "
   ]
  },
  {
   "cell_type": "code",
   "execution_count": 15,
   "metadata": {},
   "outputs": [
    {
     "name": "stdout",
     "output_type": "stream",
     "text": [
      "7941164790683181588890744897\n",
      "7941164790683181589392242190\n"
     ]
    }
   ],
   "source": [
    "\n",
    "print(a//Q_prime)\n",
    "print(b//Q_prime)\n",
    "\n",
    "p_k = random.randrange(a//Q_prime, b//Q_prime)\n",
    "# Vérifier que p est premier\n",
    "while not miller_rabin(p_k,1) or not miller_rabin(Q_prime*p_k+1,1):\n",
    "    p_k = random.randrange(a//Q_prime, b//Q_prime)\n",
    "\n",
    "liste_pk.append(p_k)"
   ]
  },
  {
   "cell_type": "code",
   "execution_count": 16,
   "metadata": {},
   "outputs": [
    {
     "name": "stdout",
     "output_type": "stream",
     "text": [
      "Q dans [a, b[ ? :  True\n",
      "154316175894155136166528561793393305179848683359105802995034344411179905920810777028472040568336003049380454354921271731826036260334579864045951859527237529924507115001726764885385877162552070207829535165367381420827865226960640342101864587976856648730632876335120681612729780170343883423071835630503531230422\n",
      "pk dans l'intervalle ? True\n"
     ]
    }
   ],
   "source": [
    "print(\"Q dans [a, b[ ? : \", a <= multiplyList(liste_pk) < b)\n",
    "print(multiplyList(liste_pk))\n",
    "print(\"pk dans l'intervalle ?\", a//Q_prime <= p_k < b//Q_prime)\n"
   ]
  },
  {
   "cell_type": "code",
   "execution_count": 17,
   "metadata": {},
   "outputs": [],
   "source": [
    "def find_gen(p,list_div):\n",
    "    found = False\n",
    "    while(True):\n",
    "        g = random.randrange(2, p-1)\n",
    "\n",
    "        test = True\n",
    "        for pi in list_div:\n",
    "            if pow(g,(p-1)//pi, p) == 1:\n",
    "                test = False\n",
    "                break\n",
    "\n",
    "        if test:\n",
    "            return g\n"
   ]
  },
  {
   "cell_type": "code",
   "execution_count": 18,
   "metadata": {},
   "outputs": [
    {
     "name": "stdout",
     "output_type": "stream",
     "text": [
      "p =  154316175894155136166528561793393305179848683359105802995034344411179905920810777028472040568336003049380454354921271731826036260334579864045951859527237529924507115001726764885385877162552070207829535165367381420827865226960640342101864587976856648730632876335120681612729780170343883423071835630503531230423\n",
      "116038970379522382205167559062849980705883290033684366019259468397020776974204918871834869018941551182208872868397507784139818890780328350062366074125257059586911456810132040462826421884624474678240150995031828352000903484870265031362474078579508790048330689424147082540655184510119929091626551457232717062924\n",
      "True\n",
      "True\n",
      "True\n",
      "True\n",
      "True\n",
      "True\n",
      "True\n",
      "True\n",
      "[2, 802896922861533130101730924856429022464189495197, 792075230263929949775610451428025268725908314783, 955311862735258933062505343559517528762988455031, 293382934094045995771553647693037579789611736273, 1433717851219846891977685639199216892069786739747, 38021330632930988663694495716408243630999, 7941164790683181589140942899]\n"
     ]
    }
   ],
   "source": [
    "p = multiplyList(liste_pk) + 1\n",
    "print(\"p = \", p)\n",
    "\n",
    "g = find_gen(p,liste_pk)\n",
    "print(g)\n",
    "\n",
    "for i in liste_pk:\n",
    "    print(pow(g,(p-1)//i, p) != 1)\n",
    "\n",
    "print(liste_pk)"
   ]
  },
  {
   "cell_type": "code",
   "execution_count": 19,
   "metadata": {},
   "outputs": [],
   "source": [
    "def rec_cert_pratt(list_div):\n",
    "    res = []\n",
    "    for div in list_div:\n",
    "        if div < 1024:\n",
    "            res.append({'p':div})\n",
    "        else:\n",
    "            cert_div = {'p':div}\n",
    "            diviseur = []\n",
    "            for d,e in (div-1).factor():\n",
    "                for i in range(e):\n",
    "                    diviseur.append(d)\n",
    "            cert_div['g'] = find_gen(div,diviseur)\n",
    "            cert_div['pm1'] = rec_cert_pratt(diviseur)\n",
    "            res.append(cert_div)\n",
    "    return res"
   ]
  },
  {
   "cell_type": "code",
   "execution_count": 20,
   "metadata": {},
   "outputs": [
    {
     "ename": "AttributeError",
     "evalue": "'int' object has no attribute 'factor'",
     "output_type": "error",
     "traceback": [
      "\u001b[0;31m---------------------------------------------------------------------------\u001b[0m",
      "\u001b[0;31mAttributeError\u001b[0m                            Traceback (most recent call last)",
      "\u001b[0;32m/var/folders/mw/_8h79zz516g1027m_j1npv2m0000gn/T/ipykernel_13668/1519311535.py\u001b[0m in \u001b[0;36m<module>\u001b[0;34m\u001b[0m\n\u001b[1;32m      1\u001b[0m \u001b[0mcert_pratt\u001b[0m \u001b[0;34m=\u001b[0m \u001b[0;34m{\u001b[0m \u001b[0;34m'p'\u001b[0m \u001b[0;34m:\u001b[0m \u001b[0mp\u001b[0m\u001b[0;34m,\u001b[0m \u001b[0;34m'g'\u001b[0m \u001b[0;34m:\u001b[0m \u001b[0mg\u001b[0m\u001b[0;34m}\u001b[0m\u001b[0;34m\u001b[0m\u001b[0;34m\u001b[0m\u001b[0m\n\u001b[0;32m----> 2\u001b[0;31m \u001b[0mcert_pratt\u001b[0m\u001b[0;34m[\u001b[0m\u001b[0;34m'pm1'\u001b[0m\u001b[0;34m]\u001b[0m \u001b[0;34m=\u001b[0m \u001b[0mrec_cert_pratt\u001b[0m\u001b[0;34m(\u001b[0m\u001b[0mliste_pk\u001b[0m\u001b[0;34m)\u001b[0m\u001b[0;34m\u001b[0m\u001b[0;34m\u001b[0m\u001b[0m\n\u001b[0m\u001b[1;32m      3\u001b[0m \u001b[0;34m\u001b[0m\u001b[0m\n\u001b[1;32m      4\u001b[0m \u001b[0mcert_pratt\u001b[0m\u001b[0;34m\u001b[0m\u001b[0;34m\u001b[0m\u001b[0m\n",
      "\u001b[0;32m/var/folders/mw/_8h79zz516g1027m_j1npv2m0000gn/T/ipykernel_13668/4104312429.py\u001b[0m in \u001b[0;36mrec_cert_pratt\u001b[0;34m(list_div)\u001b[0m\n\u001b[1;32m      7\u001b[0m             \u001b[0mcert_div\u001b[0m \u001b[0;34m=\u001b[0m \u001b[0;34m{\u001b[0m\u001b[0;34m'p'\u001b[0m\u001b[0;34m:\u001b[0m\u001b[0mdiv\u001b[0m\u001b[0;34m}\u001b[0m\u001b[0;34m\u001b[0m\u001b[0;34m\u001b[0m\u001b[0m\n\u001b[1;32m      8\u001b[0m             \u001b[0mdiviseur\u001b[0m \u001b[0;34m=\u001b[0m \u001b[0;34m[\u001b[0m\u001b[0;34m]\u001b[0m\u001b[0;34m\u001b[0m\u001b[0;34m\u001b[0m\u001b[0m\n\u001b[0;32m----> 9\u001b[0;31m             \u001b[0;32mfor\u001b[0m \u001b[0md\u001b[0m\u001b[0;34m,\u001b[0m\u001b[0me\u001b[0m \u001b[0;32min\u001b[0m \u001b[0;34m(\u001b[0m\u001b[0mdiv\u001b[0m\u001b[0;34m-\u001b[0m\u001b[0;36m1\u001b[0m\u001b[0;34m)\u001b[0m\u001b[0;34m.\u001b[0m\u001b[0mfactor\u001b[0m\u001b[0;34m(\u001b[0m\u001b[0;34m)\u001b[0m\u001b[0;34m:\u001b[0m\u001b[0;34m\u001b[0m\u001b[0;34m\u001b[0m\u001b[0m\n\u001b[0m\u001b[1;32m     10\u001b[0m                 \u001b[0;32mfor\u001b[0m \u001b[0mi\u001b[0m \u001b[0;32min\u001b[0m \u001b[0mrange\u001b[0m\u001b[0;34m(\u001b[0m\u001b[0me\u001b[0m\u001b[0;34m)\u001b[0m\u001b[0;34m:\u001b[0m\u001b[0;34m\u001b[0m\u001b[0;34m\u001b[0m\u001b[0m\n\u001b[1;32m     11\u001b[0m                     \u001b[0mdiviseur\u001b[0m\u001b[0;34m.\u001b[0m\u001b[0mappend\u001b[0m\u001b[0;34m(\u001b[0m\u001b[0md\u001b[0m\u001b[0;34m)\u001b[0m\u001b[0;34m\u001b[0m\u001b[0;34m\u001b[0m\u001b[0m\n",
      "\u001b[0;31mAttributeError\u001b[0m: 'int' object has no attribute 'factor'"
     ]
    }
   ],
   "source": [
    "cert_pratt = { 'p' : p, 'g' : g}\n",
    "cert_pratt['pm1'] = rec_cert_pratt(liste_pk)\n",
    "\n",
    "cert_pratt"
   ]
  }
 ],
 "metadata": {
  "kernelspec": {
   "display_name": "Python 3",
   "language": "python",
   "name": "python3"
  },
  "language_info": {
   "codemirror_mode": {
    "name": "ipython",
    "version": 3
   },
   "file_extension": ".py",
   "mimetype": "text/x-python",
   "name": "python",
   "nbconvert_exporter": "python",
   "pygments_lexer": "ipython3",
   "version": "3.9.16"
  },
  "orig_nbformat": 4
 },
 "nbformat": 4,
 "nbformat_minor": 2
}
